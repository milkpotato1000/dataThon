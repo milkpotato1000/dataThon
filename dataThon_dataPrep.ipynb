{
 "cells": [
  {
   "cell_type": "code",
   "execution_count": null,
   "id": "34c7ca4b",
   "metadata": {},
   "outputs": [],
   "source": [
    "import os\n",
    "import pandas as pd\n",
    "import numpy as np\n",
    "import json\n",
    "import warnings\n",
    "warnings.filterwarnings(\"ignore\")"
   ]
  },
  {
   "cell_type": "code",
   "execution_count": 2,
   "id": "7caf4ef9",
   "metadata": {},
   "outputs": [],
   "source": [
    "cards = pd.read_csv(\"./data/cards_data.csv\")\n",
    "users = pd.read_csv(\"./data/users_data.csv\")\n",
    "transactions = pd.read_csv(\"./data/transactions_data.csv\")"
   ]
  },
  {
   "cell_type": "code",
   "execution_count": 3,
   "id": "93ce9b7c",
   "metadata": {},
   "outputs": [],
   "source": [
    "def money_to_float(s):\n",
    "    s = pd.Series(s).astype(str).str.strip()\n",
    "    s = s.str.replace(r'[$,]', '', regex=True)   \n",
    "    return pd.to_numeric(s)   \n",
    "\n",
    "def parse_mmYYYY(s):\n",
    "    return pd.to_datetime(pd.Series(s).astype(str), format=\"%m/%Y\")"
   ]
  },
  {
   "cell_type": "code",
   "execution_count": 4,
   "id": "bd91327a",
   "metadata": {},
   "outputs": [],
   "source": [
    "# users: 화폐형 컬럼 숫자화, 불필요(PII) 최소 제거\n",
    "for c in [\"per_capita_income\",\"yearly_income\",\"total_debt\"]:\n",
    "    if c in users.columns:\n",
    "        users[c] = money_to_float(users[c])\n",
    "users = users.drop(\"address\", axis=1) \n",
    "\n",
    "# 카드 숫자/날짜 변환\n",
    "cards[\"credit_limit\"] = money_to_float(cards[\"credit_limit\"])\n",
    "cards[\"acct_open_date\"] = parse_mmYYYY(cards[\"acct_open_date\"])\n",
    "cards[\"expires\"] = parse_mmYYYY(cards[\"expires\"]) # datime 형태로 변환\n",
    "\n",
    "# 카드 has_chaip, card_on_dark_web 정보 이진화\n",
    "for c in [\"has_chip\",\"card_on_dark_web\"]:\n",
    "    cards[c] = cards[c].map({\"YES\":1,\"Yes\":1,\"NO\":0,\"No\":0}).astype('Int8')\n",
    "\n",
    "# 카드 민감정보 제거\n",
    "cards = cards.drop([\"card_number\", \"cvv\", \"card_on_dark_web\"], axis=1)\n",
    "\n",
    "# transactions: 날짜/금액/파생\n",
    "transactions[\"date\"] = pd.to_datetime(transactions[\"date\"])\n",
    "transactions[\"hour\"] = transactions[\"date\"].dt.hour\n",
    "transactions[\"dow\"]  = transactions[\"date\"].dt.dayofweek\n",
    "\n",
    "# 음수(환불 등)는 분석 목적에 따라 분리\n",
    "transactions[\"amount\"] = money_to_float(transactions[\"amount\"])\n",
    "transactions[\"amount_pos_\"] = transactions[\"amount\"].clip(lower=0)\n",
    "transactions[\"amount_log1p\"] = np.log1p(transactions[\"amount_pos_\"])\n",
    "\n",
    "transactions[\"is_refund\"] = (transactions[\"amount\"] < 0).astype('Int8')\n",
    "transactions[\"amount_pos\"] = transactions[\"amount\"].clip(lower=0)\n",
    "transactions[\"amount_neg\"] = transactions[\"amount\"].clip(upper=0) \n",
    "\n",
    "# 우편번호 float → 문자열 5자리\n",
    "transactions[\"zip\"] = transactions[\"zip\"].round().astype('Int64')\n",
    "transactions[\"zip_str\"] = transactions[\"zip\"].astype(\"string\").str.zfill(5)\n",
    "\n",
    "# 거의 전부 NaN인 errors 컬럼 제거\n",
    "transactions = transactions.drop(\"errors\", axis=1) "
   ]
  },
  {
   "cell_type": "code",
   "execution_count": null,
   "id": "f4986215",
   "metadata": {},
   "outputs": [],
   "source": [
    "work = pd.merge(transactions, users, left_on='client_id', right_on='id', how='left', suffixes=('', '__USER'))\n",
    "work = pd.merge(work, cards, left_on='card_id', right_on='id', how='left', suffixes=('', '__CARD'))\n",
    "\n",
    "work.drop(columns=['id__USER', 'id__CARD'], inplace=True, errors='ignore') "
   ]
  },
  {
   "cell_type": "code",
   "execution_count": 7,
   "id": "9d2706c7",
   "metadata": {},
   "outputs": [],
   "source": [
    "# JSON 파일 불러오기\n",
    "fraud_label_file_path = './data/train_fraud_labels.json'\n",
    "\n",
    "with open(fraud_label_file_path, 'r') as f:\n",
    "    data = json.load(f)\n",
    "\n",
    "# target 딕셔너리 추출\n",
    "target_dict = data['target']"
   ]
  },
  {
   "cell_type": "code",
   "execution_count": 8,
   "id": "529d7d94",
   "metadata": {},
   "outputs": [],
   "source": [
    "# 'is_raud'에 target 값들 입력\n",
    "work['is_fraud'] = work['id'].astype(str).map(target_dict)\n",
    "work['is_fraud'] = work['is_fraud'].map({'No': 0, 'Yes': 1}).astype('Int8') \n",
    "\n",
    "# fraud_label이 없는 행들은 제거\n",
    "work_with_target = work.dropna()"
   ]
  },
  {
   "cell_type": "code",
   "execution_count": 9,
   "id": "6157ac7c",
   "metadata": {},
   "outputs": [],
   "source": [
    "filepath = './data/transactions_wtih_target.csv' \n",
    "\n",
    "if not os.path.exists(filepath):  \n",
    "    work_with_target.to_csv(filepath, index=False)\n",
    "else:\n",
    "    print(f\"⚠️ 파일 이미 존재: {filepath}, 저장 스킵\")"
   ]
  }
 ],
 "metadata": {
  "kernelspec": {
   "display_name": "ds_study",
   "language": "python",
   "name": "python3"
  },
  "language_info": {
   "codemirror_mode": {
    "name": "ipython",
    "version": 3
   },
   "file_extension": ".py",
   "mimetype": "text/x-python",
   "name": "python",
   "nbconvert_exporter": "python",
   "pygments_lexer": "ipython3",
   "version": "3.8.20"
  }
 },
 "nbformat": 4,
 "nbformat_minor": 5
}
